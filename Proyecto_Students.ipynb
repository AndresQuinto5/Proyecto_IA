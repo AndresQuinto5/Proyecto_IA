{
 "cells": [
  {
   "cell_type": "markdown",
   "metadata": {},
   "source": [
    "Universidad del valle de Guatemala  \n",
    "Dpto. Ciencias de la computacion  \n",
    "Inteligencia Artificial  \n",
    "Alberto Suriano  \n",
    "\n",
    "Proyecto Final de curso  \n",
    "Andres Quinto - 18288  \n",
    "Marlon Hernández - 15177  \n",
    "\n",
    "[Repositorio_aqui](https://github.com/AndresQuinto5/Proyecto_IA.git)"
   ]
  },
  {
   "cell_type": "markdown",
   "metadata": {},
   "source": [
    "Este proyecto final consiste en la implementación o profundización teórica de un tema relacionado con la Inteligencia Artificial. El objetivo es desarrollar un programa que resuelva un problema real y de interés, aplicando las técnicas y conocimientos adquiridos durante el curso."
   ]
  }
 ],
 "metadata": {
  "language_info": {
   "name": "python"
  }
 },
 "nbformat": 4,
 "nbformat_minor": 2
}
