{
 "cells": [
  {
   "cell_type": "markdown",
   "metadata": {},
   "source": [
    "Universidad del valle de Guatemala  \n",
    "Dpto. Ciencias de la computacion  \n",
    "Inteligencia Artificial  \n",
    "Alberto Suriano  \n",
    "\n",
    "Proyecto Final de curso  \n",
    "Andres Quinto - 18288  \n",
    "Marlon Hernández - 15177  \n",
    "\n",
    "[Repositorio_aqui](https://github.com/AndresQuinto5/Proyecto_IA.git)"
   ]
  },
  {
   "cell_type": "markdown",
   "metadata": {},
   "source": [
    "Este proyecto final consiste en la implementación o profundización teórica de un tema relacionado con la Inteligencia Artificial. El objetivo es desarrollar un programa que resuelva un problema real y de interés, aplicando las técnicas y conocimientos adquiridos durante el curso."
   ]
  },
  {
   "cell_type": "code",
   "execution_count": null,
   "metadata": {},
   "outputs": [],
   "source": [
    "import pandas as pd\n",
    "import matplotlib.pyplot as plt\n",
    "import seaborn as sns"
   ]
  },
  {
   "cell_type": "code",
   "execution_count": null,
   "metadata": {},
   "outputs": [],
   "source": [
    "'''\n",
    "Cargamos el dataset\n",
    "'''\n",
    "data = pd.read_csv('dataset.csv')"
   ]
  },
  {
   "cell_type": "code",
   "execution_count": null,
   "metadata": {},
   "outputs": [],
   "source": [
    "'''\n",
    "Exploramos el dataset\n",
    "Importamos el dataset y quitamos las observaciones de 'Enrolled'\n",
    "El dataset contiene 3630 observaciones con 34 caraterísticas y una variable a predecir\n",
    "'''\n",
    "# Ver las primeras filas del dataset\n",
    "# print(data.head())\n",
    "# Importamos el dataset y quitamos las observaciones de 'Enrolled'\n",
    "# El dataset contiene 3630 observaciones con 34 caraterísticas y una variable a predecir\n",
    "data = data.drop(data[data.Target == \"Enrolled\"].index)\n",
    "res = data.Target.value_counts().to_frame('Student status')\n",
    "res['Percentage'] = res['Student status'] / res['Student status'].sum()\n",
    "\n",
    "print(res)\n",
    "print(data.shape)\n",
    "\n",
    "sns.set_theme(style=\"whitegrid\")\n",
    "plt.figure(figsize=(10, 6))\n",
    "ax = sns.countplot(x='Target', data=data, order=data['Target'].value_counts().index)\n",
    "plt.title('Distribution of Student Status')\n",
    "plt.ylabel('Frequency')\n",
    "plt.xticks(rotation=45)\n",
    "for p in ax.patches:\n",
    "    ax.annotate(f'{int(p.get_height())}', (p.get_x() + p.get_width() / 2., p.get_height()),\n",
    "                ha='center', va='center', fontsize=11, color='black', xytext=(0, 5),\n",
    "                textcoords='offset points')\n",
    "plt.show()"
   ]
  },
  {
   "cell_type": "code",
   "execution_count": null,
   "metadata": {},
   "outputs": [],
   "source": [
    "# Obtener información general del dataset\n",
    "print(data.info())"
   ]
  },
  {
   "cell_type": "code",
   "execution_count": null,
   "metadata": {},
   "outputs": [],
   "source": [
    "# Obtener estadísticas descriptivas del dataset\n",
    "print(data.describe())"
   ]
  },
  {
   "cell_type": "code",
   "execution_count": null,
   "metadata": {},
   "outputs": [],
   "source": [
    "# Verificar valores faltantes por columna\n",
    "print(data.isnull().sum())"
   ]
  },
  {
   "cell_type": "code",
   "execution_count": null,
   "metadata": {},
   "outputs": [],
   "source": [
    "'''Renombrar aquellas columnas que presentan apostrofe'''\n",
    "\n",
    "data = data.rename(columns={\"Mother's qualification\": \"Mother_qualification\", \n",
    "                            \"Father's qualification\": \"Father_qualification\",\n",
    "                            \"Mother's occupation\": \"Mother_occupation\",\n",
    "                            \"Father's occupation\": \"Father_occupation\"})"
   ]
  },
  {
   "cell_type": "code",
   "execution_count": null,
   "metadata": {},
   "outputs": [],
   "source": [
    "# Distribución de la variable objetivo\n",
    "print(data['Target'].value_counts())\n",
    "\n",
    "# Gráfico de barras de la variable objetivo\n",
    "sns.countplot(x='Target', data=data)\n",
    "plt.show()\n",
    "\n",
    "# Gráficos de distribución para variables numéricas\n",
    "num_cols = ['Application order', 'Age at enrollment', 'Curricular units 1st sem (credited)', 'Curricular units 1st sem (enrolled)', 'Curricular units 1st sem (evaluations)', 'Curricular units 1st sem (approved)']\n",
    "for col in num_cols:\n",
    "    plt.figure()\n",
    "    sns.histplot(data[col])\n",
    "    plt.title(col)\n",
    "    plt.show()\n",
    "\n",
    "# Gráficos de barras para variables categóricas\n",
    "cat_cols = ['Marital status', 'Application mode', 'Course', 'Daytime/evening attendance', 'Previous qualification', 'Nacionality', 'Mother_qualification', 'Father_qualification', 'Mother_occupation', 'Father_occupation', 'Displaced', 'Educational special needs', 'Debtor', 'Tuition fees up to date', 'Gender', 'Scholarship holder', 'International']\n",
    "for col in cat_cols:\n",
    "    plt.figure()\n",
    "    sns.countplot(x=col, data=data)\n",
    "    plt.xticks(rotation=45)\n",
    "    plt.title(col)\n",
    "    plt.show()"
   ]
  },
  {
   "cell_type": "code",
   "execution_count": null,
   "metadata": {},
   "outputs": [],
   "source": [
    "# Relación entre variables numéricas y la variable objetivo\n",
    "for col in num_cols:\n",
    "    plt.figure()\n",
    "    sns.boxplot(x='Target', y=col, data=data)\n",
    "    plt.title(col)\n",
    "    plt.show()\n",
    "\n",
    "# Relación entre variables categóricas y la variable objetivo\n",
    "for col in cat_cols:\n",
    "    plt.figure()\n",
    "    sns.countplot(x=col, hue='Target', data=data)\n",
    "    plt.xticks(rotation=45)\n",
    "    plt.title(col)\n",
    "    plt.show()"
   ]
  },
  {
   "cell_type": "code",
   "execution_count": null,
   "metadata": {},
   "outputs": [],
   "source": [
    "data['Application mode'] = data['Application mode'].map({\n",
    "    1: '1st phase—general contingent',\n",
    "    2: 'Ordinance No. 612/93',\n",
    "    3: '1st phase—special contingent (Azores Island)',\n",
    "    4: 'Holders of other higher courses',\n",
    "    5: 'Ordinance No. 854-B/99',\n",
    "    6: 'International student (bachelor)',\n",
    "    7: '1st phase—special contingent (Madeira Island)',\n",
    "    8: '2nd phase—general contingent',\n",
    "    9: '3rd phase—general contingent',\n",
    "    10: 'Ordinance No. 533-A/99, item b2) (Different Plan)',\n",
    "    11: 'Ordinance No. 533-A/99, item b3 (Other Institution)',\n",
    "    12: 'Over 23 years old',\n",
    "    13: 'Transfer',\n",
    "    14: 'Change in course',\n",
    "    15: 'Technological specialization diploma holders',\n",
    "    16: 'Change in institution/course',\n",
    "    17: 'Short cycle diploma holders',\n",
    "    18: 'Change in institution/course (International)'\n",
    "})\n",
    "\n",
    "\n",
    "x = data['Application mode'].value_counts().reset_index()\n",
    "x.columns = ['Application Mode', 'Count']"
   ]
  }
 ],
 "metadata": {
  "kernelspec": {
   "display_name": "Proyecto",
   "language": "python",
   "name": "python3"
  },
  "language_info": {
   "codemirror_mode": {
    "name": "ipython",
    "version": 3
   },
   "file_extension": ".py",
   "mimetype": "text/x-python",
   "name": "python",
   "nbconvert_exporter": "python",
   "pygments_lexer": "ipython3",
   "version": "3.12.3"
  }
 },
 "nbformat": 4,
 "nbformat_minor": 2
}
